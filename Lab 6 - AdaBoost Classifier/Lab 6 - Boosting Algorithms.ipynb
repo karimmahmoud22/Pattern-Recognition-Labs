{
 "cells": [
  {
   "attachments": {},
   "cell_type": "markdown",
   "metadata": {},
   "source": [
    "# Lab 6 - Classifiers Boosting Algorithms\n",
    "\n",
    "In this lab, we will implement the AdaBoost algorithm as an ensemble learning technique which\n",
    "aims to combine a number of weak classifiers to yield a strong classifier at the end.\n",
    "The idea of this lab is to identify whether a tumor with given characteristics is malignant or\n",
    "benign. This is a two-class classification problem.\n",
    "\n",
    "## Dataset and Features\n",
    "\n",
    "You will be working on the dataset from *Hastie et al,* for breast tumor classification with 10 features representing the tumor's:\n",
    "\n",
    "                              1. Area            6. Texture\n",
    "                              2. Perimeter       7. Symmetry\n",
    "                              3. Radius          8. Greyscale Level\n",
    "                              4. Compactness     9. Fractal Dimension\n",
    "                              5. Concavity      10. Coastline Approximation.\n",
    "There is one output variable which is diagnosis. It takes one of two values `+1` for malignant and `-1` for benign."
   ]
  },
  {
   "cell_type": "markdown",
   "metadata": {},
   "source": [
    "### Question 1:\n",
    "Why it is sometimes better to have the two class values `+1` and `-1` instead of `+1`\n",
    "and `0`?\\\n",
    "**HINT :** Think about the voting scheme at the end of the boosting algorithm. How can the class values\n",
    "affect this scheme?"
   ]
  },
  {
   "cell_type": "code",
   "execution_count": 40,
   "metadata": {},
   "outputs": [
    {
     "data": {
      "text/plain": [
       "'\\n    Your answer: \\n        ==> The reason why it is sometimes better to have the two class values +1 and -1 instead of +1 and 0 in AdaBoost classifier\\n            is that AdaBoost uses a decision stump as its base classifier,\\n            which is a one-level decision tree that splits the data into two groups based on a single feature.\\n        ==> The decision stump can only output two values, so it makes sense to use +1 and -1 as class labels instead of +1 and 0.\\n            This way, the decision stump can output either +1 or -1, which can be used to make binary decisions.\\n\\n        ==> In addition, AdaBoost uses a weighted combination of decision stumps to make its final prediction.\\n            The weights are chosen such that the misclassified samples have higher weights in the next iteration.\\n            If we use +1 and 0, then we cannot distinguish between positive and negative samples that are misclassified as 0.\\n            However, if we use +1 and -1, then we can distinguish between positive and negative samples that are misclassified as -1.\\n'"
      ]
     },
     "execution_count": 40,
     "metadata": {},
     "output_type": "execute_result"
    }
   ],
   "source": [
    "'''\n",
    "    Your answer: \n",
    "        ==> The reason why it is sometimes better to have the two class values +1 and -1 instead of +1 and 0 in AdaBoost classifier\n",
    "            is that AdaBoost uses a decision stump as its base classifier,\n",
    "            which is a one-level decision tree that splits the data into two groups based on a single feature.\n",
    "        ==> The decision stump can only output two values, so it makes sense to use +1 and -1 as class labels instead of +1 and 0.\n",
    "            This way, the decision stump can output either +1 or -1, which can be used to make binary decisions.\n",
    "\n",
    "        ==> In addition, AdaBoost uses a weighted combination of decision stumps to make its final prediction.\n",
    "            The weights are chosen such that the misclassified samples have higher weights in the next iteration.\n",
    "            If we use +1 and 0, then we cannot distinguish between positive and negative samples that are misclassified as 0.\n",
    "            However, if we use +1 and -1, then we can distinguish between positive and negative samples that are misclassified as -1.\n",
    "'''"
   ]
  },
  {
   "cell_type": "markdown",
   "metadata": {},
   "source": [
    "## Requirement\n",
    "You are required to fill the function `adaboost_classifier(Y_train, X_train, Y_test, X_test, T, clf).`\\\n",
    "This function takes as parameters:\n",
    "\n",
    "| | |\n",
    "|:---|:-|\n",
    "| **Y_train**| The target values for the training set |\n",
    "| **X_train**| The input features for the training set.|\n",
    "| **Y_test**| The target values for the test set.|\n",
    "| **Y_train**| The input features for the training set.|\n",
    "| **T**| The number of iterations of the AdaBoost Algorithm.|\n",
    "| **clf**| The classifier to be used. (In our case, we are using a decision tree stump as a base classifier). You can use any other classifier.|\n",
    "\n",
    "This function should return two values:\n",
    "- The accuracy of the model on the training set.\n",
    "- The accuracy of the model on the test set.\n",
    "\n",
    "\n",
    "#### Fair Note:\n",
    "In the explanation video, we assumed that (T) is the number of models you want to fit. However, this is not always the case. You may have a model base (like here we have decision trees) and you are allowed to use as many of it as you can. So (T) here becomes the number of iterations where your goal is to enhance the performance with as few iterations as possible. \n",
    "\n",
    "Do not get confused:\n",
    "- If your case is you have T models only, we set T = number of models to fit.\n",
    "- If you are allowed to use as many models as you can (as many decision trees as you need), then T is the number of iterations to choose. In such case, T becomes a parameter controlled by the programmer."
   ]
  },
  {
   "cell_type": "code",
   "execution_count": 41,
   "metadata": {},
   "outputs": [],
   "source": [
    "## imports ##\n",
    "import pandas as pd\n",
    "import numpy as np\n",
    "from sklearn.tree import DecisionTreeClassifier\n",
    "from sklearn.model_selection import train_test_split\n",
    "from sklearn.datasets import make_hastie_10_2\n",
    "\n",
    "from utils import get_accuracy, print_accuracy, plot_accuracy"
   ]
  },
  {
   "cell_type": "markdown",
   "metadata": {},
   "source": [
    "**NOTE** we prepared some utility functions to help you throughout the lab. please go and check the file *utils.py* and make sure you understand each function and know how to use it.\n",
    "\n",
    "### TODO: AdaBoost Implementation\n",
    "\n",
    "AdaBoost is an iterative algorithm that gives weights for the best classifier every iteration, updates weights of the data points, then repeats until convergence.\n",
    "\n",
    "The steps of the algorithm are:\n",
    "\n",
    "1. Initialize weights of the training examples:\n",
    "\n",
    "$$w_{m} = \\frac {1}{M}, m = 1,2,...M$$\n",
    "\n",
    "                                        M: number of training examples. \n",
    "\n",
    "2. For t=1 to $T$:\n",
    "\n",
    "    a) Select a classifier $h_{t}$ that best fits to the training data using weights $w_{m}$ of the training examples.\n",
    "\n",
    "    b) Compute error of $h_{t}$ as:\n",
    "$$err_{t} = \\frac {\\Sigma_{m=1}^{M} w_{m} \\phi (c_{m} \\neq h_{t}(x_{m}))}{\\Sigma_{m=1}^{M} w_{m}}$$\n",
    "\n",
    "    c) Compute weight of classifier:\n",
    "$$\\alpha_{t} = \\log (\\frac {1-err_{t}}{err_{t}} )$$\n",
    "\n",
    "    d) Update weights of wrongly classified examples:\n",
    "$$w_{m} = w_{m} * \\exp^{\\alpha_{t} \\phi (c_{m} \\neq h_{t}(x_{m}))}, \\space m = 1 ... M$$\n",
    "\n",
    "    e) Renormalize weights $w_{m}$\n",
    "\n",
    "\n",
    "\\\n",
    "3. Output: $C(x)= argmax_{k}\\space (\\space \\Sigma_{t=1}^{T} \\alpha_{t} * \\phi (h_{t}(x) = k)) \\space)$\n",
    "\n",
    "**Where** in step 2.B and 2.D, the $\\phi (y)$ function is called the *miss indicator* function that gives values:\n",
    "\n",
    "                                     1: if y is True\n",
    "                                     0: if y is False"
   ]
  },
  {
   "cell_type": "code",
   "execution_count": 42,
   "metadata": {},
   "outputs": [],
   "source": [
    "def adaboost_classifier(Y_train, X_train, Y_test, X_test, T, clf):\n",
    "    \n",
    "    #TODO: FILL THE FUNCTION with the implementation as the steps above\n",
    "\n",
    "    # TODO [1]: Initialize weights\n",
    "    w = np.array([1/len(X_train) for x in X_train ])\n",
    "\n",
    "    ## TODO [2]:  Initialize the training and test data with empty array placeholders\n",
    "    #### Hint: what should be their shape?\n",
    "    \n",
    "    # predicted classes of the training examples\n",
    "    pred_train = np.zeros((T,len(Y_train) ))       \n",
    "    # predicted classes of the test examples  \n",
    "    pred_test = np.zeros((T,len(Y_test) ))          \n",
    "\n",
    "    ## TODO [3]: loop over the boosting iterations \n",
    "    for i in range(T): \n",
    "\n",
    "        # TODO [4]: Fit a classifier with the specific weights \n",
    "        ## TODO [4.A]: fit the classifier on the training data\n",
    "        #### Hint: search how sklearn.tree.DecisionTreeClassifier fits classifier on data\n",
    "        ### Hint: search for parameter weights in the fit matrix\n",
    "        clf.fit(X_train, Y_train, sample_weight=w)\n",
    "        \n",
    "        # TODO [4.B]: predict classes for the training data and test data\n",
    "        pred_train_i = clf.predict(X_train)\n",
    "        pred_test_i = clf.predict(X_test)\n",
    "        \n",
    "        # TODO [5]: calculate the miss Indicator function\n",
    "        miss = (pred_train_i != Y_train)\n",
    "\n",
    "        # TODO [6]: calculate the error for the current classifier (err_t)\n",
    "        err_t = np.sum(w * miss)/np.sum(w)\n",
    "\n",
    "        # TODO [7]: calculate current classifier weight (Alpha_t)\n",
    "        alpha_t = np.log((1-err_t)/err_t)\n",
    "\n",
    "        # TODO [8]: update the weights \n",
    "        w = w * np.exp(alpha_t * miss)\n",
    "\n",
    "        # TODO [9] Add to the overall predictions\n",
    "        pred_train[i] = pred_train_i * alpha_t\n",
    "        pred_test[i] = pred_test_i * alpha_t\n",
    "        \n",
    "    final_pred_train = np.sum(pred_train, axis=0)\n",
    "    final_pred_test = np.sum(pred_test, axis=0)\n",
    "\n",
    "    final_pred_train[final_pred_train >= 0], final_pred_train[final_pred_train < 0]= 1, -1\n",
    "    final_pred_test[final_pred_test >= 0], final_pred_test[final_pred_test < 0]= 1, -1 \n",
    "\n",
    "    # TODO [10]: Return error rate in train and test set\n",
    "    #### Hint: use function get_accuracy from utils.py\n",
    "    train_error = get_accuracy(final_pred_train, Y_train )\n",
    "    test_error = get_accuracy(final_pred_test, Y_test )\n",
    "    \n",
    "    print_accuracy((train_error* 100, test_error * 100))\n",
    "    \n",
    "    return train_error, test_error"
   ]
  },
  {
   "cell_type": "markdown",
   "metadata": {},
   "source": [
    "### Testing the Boosted Classifier\n",
    "\n",
    "Now we will use the function you implemented to build a classifer.\\\n",
    "You will not change code here, only read the code below and run it to see how **AdaBoost** enhanced the performance."
   ]
  },
  {
   "cell_type": "code",
   "execution_count": 43,
   "metadata": {},
   "outputs": [
    {
     "name": "stdout",
     "output_type": "stream",
     "text": [
      "Reading Data ...\n",
      "Number of Iterations :  10\n",
      "Accuracy: Training: 66.3750 - Test: 66.7083\n",
      "Number of Iterations :  60\n",
      "Accuracy: Training: 82.8750 - Test: 83.0417\n",
      "Number of Iterations :  110\n",
      "Accuracy: Training: 86.3542 - Test: 86.3750\n",
      "Number of Iterations :  160\n",
      "Accuracy: Training: 87.6771 - Test: 87.5417\n",
      "Number of Iterations :  210\n",
      "Accuracy: Training: 89.5938 - Test: 89.8750\n",
      "Number of Iterations :  260\n",
      "Accuracy: Training: 90.4792 - Test: 90.1667\n",
      "Number of Iterations :  310\n",
      "Accuracy: Training: 91.4688 - Test: 91.3750\n",
      "Number of Iterations :  360\n",
      "Accuracy: Training: 91.8646 - Test: 91.6667\n"
     ]
    },
    {
     "name": "stderr",
     "output_type": "stream",
     "text": [
      "g:\\Computer_Eng\\Third Year\\Second_Term\\Neural Networks\\Lab 6 - AdaBoost Classifier\\utils.py:20: UserWarning: FixedFormatter should only be used together with FixedLocator\n",
      "  plot1.set_xticklabels(range(0, 450, 50))\n"
     ]
    },
    {
     "data": {
      "image/png": "[encoded data removed]",
      "text/plain": [
       "<Figure size 576x432 with 1 Axes>"
      ]
     },
     "metadata": {
      "needs_background": "light"
     },
     "output_type": "display_data"
    }
   ],
   "source": [
    "#### DO NOT CHANGE CODE ####\n",
    "\n",
    "## First, read the dataset\n",
    "x,y = make_hastie_10_2()\n",
    "df = pd.DataFrame(x)\n",
    "df['Y'] = y\n",
    "print('Reading Data ...')\n",
    "\n",
    "# Split into training and test set\n",
    "train, test = train_test_split(df, test_size=0.2) # this function shuffles the data points, and splits the data into\n",
    "                                                  # 80% training set and 20% test set (indicated by test_size=0.2)\n",
    "\n",
    "train, test = np.array(train), np.array(test)\n",
    "X_train, Y_train = train[:, :-1], train[:, -1]\n",
    "X_test, Y_test = test[:, :-1], test[:, -1]\n",
    "# Fit a simple decision tree first\n",
    "clf_tree = DecisionTreeClassifier(max_depth=1, random_state=1)\n",
    "\n",
    "# Fit Adaboost classifier using a decision tree as base estimator\n",
    "# Test with different number of iterations\n",
    "acc_train, acc_test = [],[]\n",
    "x_range = range(10, 410, 50)\n",
    "for i in x_range:\n",
    "    print('Number of Iterations : ' , i)\n",
    "    acc_i = adaboost_classifier(Y_train, X_train, Y_test, X_test, i, clf_tree)\n",
    "    acc_train.append(acc_i[0])\n",
    "    acc_test.append(acc_i[1])\n",
    "\n",
    "# Compare error rate vs number of iterations\n",
    "plot_accuracy(acc_train, acc_test)"
   ]
  },
  {
   "cell_type": "markdown",
   "metadata": {},
   "source": [
    "### Question 2:\n",
    "Justify why the plot is the way it is (is it increasing or decreasing? why? when does it flattens out?)"
   ]
  },
  {
   "cell_type": "code",
   "execution_count": 44,
   "metadata": {},
   "outputs": [
    {
     "data": {
      "text/plain": [
       "\"\\n    Your answer:\\n        ==> It's increasing. There is a drastic decrease in slope starting from 100 iterations.\\n            Going further the slope keeps decreasing until it becomes about 0 starting form 350 iterations.\\n\\n        ==> The accuracy keeps on improving with iterations because in each iteration the classifier learns from its mistakes\\n            in the previous iteration and is then weighted depending on the new resulting loss it computes \\n            (the smaller it is the larger the weight) hence, accuracy should naturally increase with iterations.\\n\\n        ==> Now as we can see, at some point it starts to decrease then flatten out which means that there is less to learn\\n            every iteration (at the beginning with 65 percent accuracy it had much to learn.) so its also natural for the \\n            accuracy improvement to slow down as we go. \\n\""
      ]
     },
     "execution_count": 44,
     "metadata": {},
     "output_type": "execute_result"
    }
   ],
   "source": [
    "'''\n",
    "    Your answer:\n",
    "        ==> It's increasing. There is a drastic decrease in slope starting from 100 iterations.\n",
    "            Going further the slope keeps decreasing until it becomes about 0 starting form 350 iterations.\n",
    "\n",
    "        ==> The accuracy keeps on improving with iterations because in each iteration the classifier learns from its mistakes\n",
    "            in the previous iteration and is then weighted depending on the new resulting loss it computes \n",
    "            (the smaller it is the larger the weight) hence, accuracy should naturally increase with iterations.\n",
    "\n",
    "        ==> Now as we can see, at some point it starts to decrease then flatten out which means that there is less to learn\n",
    "            every iteration (at the beginning with 65 percent accuracy it had much to learn.) so its also natural for the \n",
    "            accuracy improvement to slow down as we go. \n",
    "'''"
   ]
  },
  {
   "cell_type": "markdown",
   "metadata": {},
   "source": [
    "### Question 3\n",
    "\n",
    "The number of iterations (T) is what we call a hyper parameter:\n",
    "   - Its value differs from model to model and from problem to problem.\n",
    "   - Its value is not learnt by time, it is set by the programmer.\n",
    "   \n",
    "Suggest ways to select the optimal T keeping in mind that:\n",
    "   - If T is too big, the training time is large (you loop for T times, each time takes a model to fit and this model might take hours to fit)\n",
    "   - If T is too small, the boosting might not reach the best values it can get.\n",
    "   \n",
    "   \n",
    "\n",
    "**HINT**: Look at the graph of number of iterations vs performance and search for elbow method. Try to understand it and explain what it does.\\\n",
    "**HINT**: There are other hyper-parameter selection techniques, search for them as well."
   ]
  },
  {
   "cell_type": "code",
   "execution_count": 45,
   "metadata": {},
   "outputs": [
    {
     "data": {
      "text/plain": [
       "\"\\n    Your answer:\\n        ==> AdaBoost should be run for a long time, until it converges, and that 1,000 iterations should be enough.\\n            So assuming speed is not issue we can run it a large number of iterations without worrying.    \\n    \\n        ==> The elbow method is often used to select the number of clusters in k-means, we keep watching the loss function\\n            as it decreases with the number of clusters. \\n        ==> We can apply the same huerstic to find the number of iterations here.\\n            Stopping there makes sense because we don't get so much from continuing and we make the model more susceptible \\n            to overfitting all while paying the same amount of resources (computationa and time.)\\n\""
      ]
     },
     "execution_count": 45,
     "metadata": {},
     "output_type": "execute_result"
    }
   ],
   "source": [
    "'''\n",
    "    Your answer:\n",
    "        ==> AdaBoost should be run for a long time, until it converges, and that 1,000 iterations should be enough.\n",
    "            So assuming speed is not issue we can run it a large number of iterations without worrying.    \n",
    "    \n",
    "        ==> The elbow method is often used to select the number of clusters in k-means, we keep watching the loss function\n",
    "            as it decreases with the number of clusters. \n",
    "        ==> We can apply the same huerstic to find the number of iterations here.\n",
    "            Stopping there makes sense because we don't get so much from continuing and we make the model more susceptible \n",
    "            to overfitting all while paying the same amount of resources (computationa and time.)\n",
    "'''"
   ]
  }
 ],
 "metadata": {
  "kernelspec": {
   "display_name": "Python 3",
   "language": "python",
   "name": "python3"
  },
  "language_info": {
   "codemirror_mode": {
    "name": "ipython",
    "version": 3
   },
   "file_extension": ".py",
   "mimetype": "text/x-python",
   "name": "python",
   "nbconvert_exporter": "python",
   "pygments_lexer": "ipython3",
   "version": "3.10.2"
  }
 },
 "nbformat": 4,
 "nbformat_minor": 4
}
